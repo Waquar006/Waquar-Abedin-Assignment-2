{
  "nbformat": 4,
  "nbformat_minor": 0,
  "metadata": {
    "colab": {
      "provenance": []
    },
    "kernelspec": {
      "name": "python3",
      "display_name": "Python 3"
    },
    "language_info": {
      "name": "python"
    }
  },
  "cells": [
    {
      "cell_type": "code",
      "execution_count": null,
      "metadata": {
        "id": "g4ruqlcjqgON"
      },
      "outputs": [],
      "source": []
    },
    {
      "cell_type": "markdown",
      "source": [
        "# Setup & Configuration  \n",
        "# Weather Data Functions  \n",
        "# Visualisation Functions  \n",
        "# Natural Language Processing  \n",
        "# User Interface  \n",
        "# Main Application Logic  \n",
        "# Testing & Examples"
      ],
      "metadata": {
        "id": "ahHp8XD8qykX"
      }
    },
    {
      "cell_type": "code",
      "source": [],
      "metadata": {
        "id": "KIGKECnYq6_G"
      },
      "execution_count": null,
      "outputs": []
    }
  ]
}