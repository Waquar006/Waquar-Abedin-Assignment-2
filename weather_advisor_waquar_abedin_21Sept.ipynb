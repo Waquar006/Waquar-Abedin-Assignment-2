{
  "cells": [
    {
      "cell_type": "markdown",
      "metadata": {
        "id": "ahHp8XD8qykX"
      },
      "source": [
        "# Setup & Configuration  \n"
      ]
    },
    {
      "cell_type": "markdown",
      "metadata": {
        "id": "JMD1ardtR5lk"
      },
      "source": [
        "Weather Data Functions: For setting up 'get_weather' function, the \"requests\" library is required. Additionally, in order to generate the returns in readable format, installing tabulate package is required to use the tabulat function. Moreover, to encode the location names, the function \"quote\" is required."
      ]
    },
    {
      "cell_type": "code",
      "execution_count": 2,
      "metadata": {
        "colab": {
          "base_uri": "https://localhost:8080/"
        },
        "id": "SanyqnQER45G",
        "outputId": "7c8c06d0-1469-4a23-aaa3-80286645cdd0"
      },
      "outputs": [
        {
          "name": "stdout",
          "output_type": "stream",
          "text": [
            "Requirement already satisfied: tabulate in c:\\users\\waqua\\appdata\\local\\packages\\pythonsoftwarefoundation.python.3.11_qbz5n2kfra8p0\\localcache\\local-packages\\python311\\site-packages (0.9.0)\n",
            "Note: you may need to restart the kernel to use updated packages.\n"
          ]
        },
        {
          "name": "stderr",
          "output_type": "stream",
          "text": [
            "\n",
            "[notice] A new release of pip is available: 24.0 -> 25.2\n",
            "[notice] To update, run: C:\\Users\\waqua\\AppData\\Local\\Microsoft\\WindowsApps\\PythonSoftwareFoundation.Python.3.11_qbz5n2kfra8p0\\python.exe -m pip install --upgrade pip\n"
          ]
        }
      ],
      "source": [
        "%pip install tabulate\n",
        "import requests\n",
        "from tabulate import tabulate\n",
        "from urllib.parse import quote"
      ]
    },
    {
      "cell_type": "markdown",
      "metadata": {},
      "source": [
        "Natural Language Processing: After 'get_weather' the development moves to natural language processing. Setting up for that requires the function to understand natural language, extract the question and provide responses or error messages. "
      ]
    },
    {
      "cell_type": "code",
      "execution_count": 3,
      "metadata": {},
      "outputs": [
        {
          "name": "stdout",
          "output_type": "stream",
          "text": [
            "Requirement already satisfied: spacy in c:\\users\\waqua\\appdata\\local\\packages\\pythonsoftwarefoundation.python.3.11_qbz5n2kfra8p0\\localcache\\local-packages\\python311\\site-packages (3.8.7)\n",
            "Requirement already satisfied: spacy-legacy<3.1.0,>=3.0.11 in c:\\users\\waqua\\appdata\\local\\packages\\pythonsoftwarefoundation.python.3.11_qbz5n2kfra8p0\\localcache\\local-packages\\python311\\site-packages (from spacy) (3.0.12)\n",
            "Requirement already satisfied: spacy-loggers<2.0.0,>=1.0.0 in c:\\users\\waqua\\appdata\\local\\packages\\pythonsoftwarefoundation.python.3.11_qbz5n2kfra8p0\\localcache\\local-packages\\python311\\site-packages (from spacy) (1.0.5)\n",
            "Requirement already satisfied: murmurhash<1.1.0,>=0.28.0 in c:\\users\\waqua\\appdata\\local\\packages\\pythonsoftwarefoundation.python.3.11_qbz5n2kfra8p0\\localcache\\local-packages\\python311\\site-packages (from spacy) (1.0.13)\n",
            "Requirement already satisfied: cymem<2.1.0,>=2.0.2 in c:\\users\\waqua\\appdata\\local\\packages\\pythonsoftwarefoundation.python.3.11_qbz5n2kfra8p0\\localcache\\local-packages\\python311\\site-packages (from spacy) (2.0.11)\n",
            "Requirement already satisfied: preshed<3.1.0,>=3.0.2 in c:\\users\\waqua\\appdata\\local\\packages\\pythonsoftwarefoundation.python.3.11_qbz5n2kfra8p0\\localcache\\local-packages\\python311\\site-packages (from spacy) (3.0.10)\n",
            "Requirement already satisfied: thinc<8.4.0,>=8.3.4 in c:\\users\\waqua\\appdata\\local\\packages\\pythonsoftwarefoundation.python.3.11_qbz5n2kfra8p0\\localcache\\local-packages\\python311\\site-packages (from spacy) (8.3.6)\n",
            "Requirement already satisfied: wasabi<1.2.0,>=0.9.1 in c:\\users\\waqua\\appdata\\local\\packages\\pythonsoftwarefoundation.python.3.11_qbz5n2kfra8p0\\localcache\\local-packages\\python311\\site-packages (from spacy) (1.1.3)\n",
            "Requirement already satisfied: srsly<3.0.0,>=2.4.3 in c:\\users\\waqua\\appdata\\local\\packages\\pythonsoftwarefoundation.python.3.11_qbz5n2kfra8p0\\localcache\\local-packages\\python311\\site-packages (from spacy) (2.5.1)\n",
            "Requirement already satisfied: catalogue<2.1.0,>=2.0.6 in c:\\users\\waqua\\appdata\\local\\packages\\pythonsoftwarefoundation.python.3.11_qbz5n2kfra8p0\\localcache\\local-packages\\python311\\site-packages (from spacy) (2.0.10)\n",
            "Requirement already satisfied: weasel<0.5.0,>=0.1.0 in c:\\users\\waqua\\appdata\\local\\packages\\pythonsoftwarefoundation.python.3.11_qbz5n2kfra8p0\\localcache\\local-packages\\python311\\site-packages (from spacy) (0.4.1)\n",
            "Requirement already satisfied: typer<1.0.0,>=0.3.0 in c:\\users\\waqua\\appdata\\local\\packages\\pythonsoftwarefoundation.python.3.11_qbz5n2kfra8p0\\localcache\\local-packages\\python311\\site-packages (from spacy) (0.17.4)\n",
            "Requirement already satisfied: tqdm<5.0.0,>=4.38.0 in c:\\users\\waqua\\appdata\\local\\packages\\pythonsoftwarefoundation.python.3.11_qbz5n2kfra8p0\\localcache\\local-packages\\python311\\site-packages (from spacy) (4.67.1)\n",
            "Requirement already satisfied: numpy>=1.19.0 in c:\\users\\waqua\\appdata\\local\\packages\\pythonsoftwarefoundation.python.3.11_qbz5n2kfra8p0\\localcache\\local-packages\\python311\\site-packages (from spacy) (2.3.2)\n",
            "Requirement already satisfied: requests<3.0.0,>=2.13.0 in c:\\users\\waqua\\appdata\\local\\packages\\pythonsoftwarefoundation.python.3.11_qbz5n2kfra8p0\\localcache\\local-packages\\python311\\site-packages (from spacy) (2.32.5)\n",
            "Requirement already satisfied: pydantic!=1.8,!=1.8.1,<3.0.0,>=1.7.4 in c:\\users\\waqua\\appdata\\local\\packages\\pythonsoftwarefoundation.python.3.11_qbz5n2kfra8p0\\localcache\\local-packages\\python311\\site-packages (from spacy) (2.11.9)\n",
            "Requirement already satisfied: jinja2 in c:\\users\\waqua\\appdata\\local\\packages\\pythonsoftwarefoundation.python.3.11_qbz5n2kfra8p0\\localcache\\local-packages\\python311\\site-packages (from spacy) (3.1.6)\n",
            "Requirement already satisfied: setuptools in c:\\program files\\windowsapps\\pythonsoftwarefoundation.python.3.11_3.11.2544.0_x64__qbz5n2kfra8p0\\lib\\site-packages (from spacy) (65.5.0)\n",
            "Requirement already satisfied: packaging>=20.0 in c:\\users\\waqua\\appdata\\local\\packages\\pythonsoftwarefoundation.python.3.11_qbz5n2kfra8p0\\localcache\\local-packages\\python311\\site-packages (from spacy) (25.0)\n",
            "Requirement already satisfied: langcodes<4.0.0,>=3.2.0 in c:\\users\\waqua\\appdata\\local\\packages\\pythonsoftwarefoundation.python.3.11_qbz5n2kfra8p0\\localcache\\local-packages\\python311\\site-packages (from spacy) (3.5.0)\n",
            "Requirement already satisfied: language-data>=1.2 in c:\\users\\waqua\\appdata\\local\\packages\\pythonsoftwarefoundation.python.3.11_qbz5n2kfra8p0\\localcache\\local-packages\\python311\\site-packages (from langcodes<4.0.0,>=3.2.0->spacy) (1.3.0)\n",
            "Requirement already satisfied: annotated-types>=0.6.0 in c:\\users\\waqua\\appdata\\local\\packages\\pythonsoftwarefoundation.python.3.11_qbz5n2kfra8p0\\localcache\\local-packages\\python311\\site-packages (from pydantic!=1.8,!=1.8.1,<3.0.0,>=1.7.4->spacy) (0.7.0)\n",
            "Requirement already satisfied: pydantic-core==2.33.2 in c:\\users\\waqua\\appdata\\local\\packages\\pythonsoftwarefoundation.python.3.11_qbz5n2kfra8p0\\localcache\\local-packages\\python311\\site-packages (from pydantic!=1.8,!=1.8.1,<3.0.0,>=1.7.4->spacy) (2.33.2)\n",
            "Requirement already satisfied: typing-extensions>=4.12.2 in c:\\users\\waqua\\appdata\\local\\packages\\pythonsoftwarefoundation.python.3.11_qbz5n2kfra8p0\\localcache\\local-packages\\python311\\site-packages (from pydantic!=1.8,!=1.8.1,<3.0.0,>=1.7.4->spacy) (4.14.1)\n",
            "Requirement already satisfied: typing-inspection>=0.4.0 in c:\\users\\waqua\\appdata\\local\\packages\\pythonsoftwarefoundation.python.3.11_qbz5n2kfra8p0\\localcache\\local-packages\\python311\\site-packages (from pydantic!=1.8,!=1.8.1,<3.0.0,>=1.7.4->spacy) (0.4.1)\n",
            "Requirement already satisfied: charset_normalizer<4,>=2 in c:\\users\\waqua\\appdata\\local\\packages\\pythonsoftwarefoundation.python.3.11_qbz5n2kfra8p0\\localcache\\local-packages\\python311\\site-packages (from requests<3.0.0,>=2.13.0->spacy) (3.4.3)\n",
            "Requirement already satisfied: idna<4,>=2.5 in c:\\users\\waqua\\appdata\\local\\packages\\pythonsoftwarefoundation.python.3.11_qbz5n2kfra8p0\\localcache\\local-packages\\python311\\site-packages (from requests<3.0.0,>=2.13.0->spacy) (3.10)\n",
            "Requirement already satisfied: urllib3<3,>=1.21.1 in c:\\users\\waqua\\appdata\\local\\packages\\pythonsoftwarefoundation.python.3.11_qbz5n2kfra8p0\\localcache\\local-packages\\python311\\site-packages (from requests<3.0.0,>=2.13.0->spacy) (2.5.0)\n",
            "Requirement already satisfied: certifi>=2017.4.17 in c:\\users\\waqua\\appdata\\local\\packages\\pythonsoftwarefoundation.python.3.11_qbz5n2kfra8p0\\localcache\\local-packages\\python311\\site-packages (from requests<3.0.0,>=2.13.0->spacy) (2025.8.3)\n",
            "Requirement already satisfied: blis<1.4.0,>=1.3.0 in c:\\users\\waqua\\appdata\\local\\packages\\pythonsoftwarefoundation.python.3.11_qbz5n2kfra8p0\\localcache\\local-packages\\python311\\site-packages (from thinc<8.4.0,>=8.3.4->spacy) (1.3.0)\n",
            "Requirement already satisfied: confection<1.0.0,>=0.0.1 in c:\\users\\waqua\\appdata\\local\\packages\\pythonsoftwarefoundation.python.3.11_qbz5n2kfra8p0\\localcache\\local-packages\\python311\\site-packages (from thinc<8.4.0,>=8.3.4->spacy) (0.1.5)\n",
            "Requirement already satisfied: colorama in c:\\users\\waqua\\appdata\\local\\packages\\pythonsoftwarefoundation.python.3.11_qbz5n2kfra8p0\\localcache\\local-packages\\python311\\site-packages (from tqdm<5.0.0,>=4.38.0->spacy) (0.4.6)\n",
            "Requirement already satisfied: click>=8.0.0 in c:\\users\\waqua\\appdata\\local\\packages\\pythonsoftwarefoundation.python.3.11_qbz5n2kfra8p0\\localcache\\local-packages\\python311\\site-packages (from typer<1.0.0,>=0.3.0->spacy) (8.2.1)\n",
            "Requirement already satisfied: shellingham>=1.3.0 in c:\\users\\waqua\\appdata\\local\\packages\\pythonsoftwarefoundation.python.3.11_qbz5n2kfra8p0\\localcache\\local-packages\\python311\\site-packages (from typer<1.0.0,>=0.3.0->spacy) (1.5.4)\n",
            "Requirement already satisfied: rich>=10.11.0 in c:\\users\\waqua\\appdata\\local\\packages\\pythonsoftwarefoundation.python.3.11_qbz5n2kfra8p0\\localcache\\local-packages\\python311\\site-packages (from typer<1.0.0,>=0.3.0->spacy) (14.1.0)\n",
            "Requirement already satisfied: cloudpathlib<1.0.0,>=0.7.0 in c:\\users\\waqua\\appdata\\local\\packages\\pythonsoftwarefoundation.python.3.11_qbz5n2kfra8p0\\localcache\\local-packages\\python311\\site-packages (from weasel<0.5.0,>=0.1.0->spacy) (0.22.0)\n",
            "Requirement already satisfied: smart-open<8.0.0,>=5.2.1 in c:\\users\\waqua\\appdata\\local\\packages\\pythonsoftwarefoundation.python.3.11_qbz5n2kfra8p0\\localcache\\local-packages\\python311\\site-packages (from weasel<0.5.0,>=0.1.0->spacy) (7.3.1)\n",
            "Requirement already satisfied: MarkupSafe>=2.0 in c:\\users\\waqua\\appdata\\local\\packages\\pythonsoftwarefoundation.python.3.11_qbz5n2kfra8p0\\localcache\\local-packages\\python311\\site-packages (from jinja2->spacy) (3.0.2)\n",
            "Requirement already satisfied: marisa-trie>=1.1.0 in c:\\users\\waqua\\appdata\\local\\packages\\pythonsoftwarefoundation.python.3.11_qbz5n2kfra8p0\\localcache\\local-packages\\python311\\site-packages (from language-data>=1.2->langcodes<4.0.0,>=3.2.0->spacy) (1.3.1)\n",
            "Requirement already satisfied: markdown-it-py>=2.2.0 in c:\\users\\waqua\\appdata\\local\\packages\\pythonsoftwarefoundation.python.3.11_qbz5n2kfra8p0\\localcache\\local-packages\\python311\\site-packages (from rich>=10.11.0->typer<1.0.0,>=0.3.0->spacy) (4.0.0)\n",
            "Requirement already satisfied: pygments<3.0.0,>=2.13.0 in c:\\users\\waqua\\appdata\\local\\packages\\pythonsoftwarefoundation.python.3.11_qbz5n2kfra8p0\\localcache\\local-packages\\python311\\site-packages (from rich>=10.11.0->typer<1.0.0,>=0.3.0->spacy) (2.19.2)\n",
            "Requirement already satisfied: wrapt in c:\\users\\waqua\\appdata\\local\\packages\\pythonsoftwarefoundation.python.3.11_qbz5n2kfra8p0\\localcache\\local-packages\\python311\\site-packages (from smart-open<8.0.0,>=5.2.1->weasel<0.5.0,>=0.1.0->spacy) (1.17.3)\n",
            "Requirement already satisfied: mdurl~=0.1 in c:\\users\\waqua\\appdata\\local\\packages\\pythonsoftwarefoundation.python.3.11_qbz5n2kfra8p0\\localcache\\local-packages\\python311\\site-packages (from markdown-it-py>=2.2.0->rich>=10.11.0->typer<1.0.0,>=0.3.0->spacy) (0.1.2)\n",
            "Note: you may need to restart the kernel to use updated packages.\n"
          ]
        },
        {
          "name": "stderr",
          "output_type": "stream",
          "text": [
            "\n",
            "[notice] A new release of pip is available: 24.0 -> 25.2\n",
            "[notice] To update, run: C:\\Users\\waqua\\AppData\\Local\\Microsoft\\WindowsApps\\PythonSoftwareFoundation.Python.3.11_qbz5n2kfra8p0\\python.exe -m pip install --upgrade pip\n"
          ]
        },
        {
          "name": "stdout",
          "output_type": "stream",
          "text": [
            "Requirement already satisfied: dateparser in c:\\users\\waqua\\appdata\\local\\packages\\pythonsoftwarefoundation.python.3.11_qbz5n2kfra8p0\\localcache\\local-packages\\python311\\site-packages (1.2.2)\n",
            "Requirement already satisfied: python-dateutil>=2.7.0 in c:\\users\\waqua\\appdata\\local\\packages\\pythonsoftwarefoundation.python.3.11_qbz5n2kfra8p0\\localcache\\local-packages\\python311\\site-packages (from dateparser) (2.9.0.post0)\n",
            "Requirement already satisfied: pytz>=2024.2 in c:\\users\\waqua\\appdata\\local\\packages\\pythonsoftwarefoundation.python.3.11_qbz5n2kfra8p0\\localcache\\local-packages\\python311\\site-packages (from dateparser) (2025.2)\n",
            "Requirement already satisfied: regex>=2024.9.11 in c:\\users\\waqua\\appdata\\local\\packages\\pythonsoftwarefoundation.python.3.11_qbz5n2kfra8p0\\localcache\\local-packages\\python311\\site-packages (from dateparser) (2025.9.1)\n",
            "Requirement already satisfied: tzlocal>=0.2 in c:\\users\\waqua\\appdata\\local\\packages\\pythonsoftwarefoundation.python.3.11_qbz5n2kfra8p0\\localcache\\local-packages\\python311\\site-packages (from dateparser) (5.3.1)\n",
            "Requirement already satisfied: six>=1.5 in c:\\users\\waqua\\appdata\\local\\packages\\pythonsoftwarefoundation.python.3.11_qbz5n2kfra8p0\\localcache\\local-packages\\python311\\site-packages (from python-dateutil>=2.7.0->dateparser) (1.17.0)\n",
            "Requirement already satisfied: tzdata in c:\\users\\waqua\\appdata\\local\\packages\\pythonsoftwarefoundation.python.3.11_qbz5n2kfra8p0\\localcache\\local-packages\\python311\\site-packages (from tzlocal>=0.2->dateparser) (2025.2)\n",
            "Note: you may need to restart the kernel to use updated packages.\n"
          ]
        },
        {
          "name": "stderr",
          "output_type": "stream",
          "text": [
            "\n",
            "[notice] A new release of pip is available: 24.0 -> 25.2\n",
            "[notice] To update, run: C:\\Users\\waqua\\AppData\\Local\\Microsoft\\WindowsApps\\PythonSoftwareFoundation.Python.3.11_qbz5n2kfra8p0\\python.exe -m pip install --upgrade pip\n"
          ]
        },
        {
          "name": "stdout",
          "output_type": "stream",
          "text": [
            "Requirement already satisfied: geopy in c:\\users\\waqua\\appdata\\local\\packages\\pythonsoftwarefoundation.python.3.11_qbz5n2kfra8p0\\localcache\\local-packages\\python311\\site-packages (2.4.1)\n",
            "Requirement already satisfied: geographiclib<3,>=1.52 in c:\\users\\waqua\\appdata\\local\\packages\\pythonsoftwarefoundation.python.3.11_qbz5n2kfra8p0\\localcache\\local-packages\\python311\\site-packages (from geopy) (2.1)\n",
            "Note: you may need to restart the kernel to use updated packages.\n"
          ]
        },
        {
          "name": "stderr",
          "output_type": "stream",
          "text": [
            "\n",
            "[notice] A new release of pip is available: 24.0 -> 25.2\n",
            "[notice] To update, run: C:\\Users\\waqua\\AppData\\Local\\Microsoft\\WindowsApps\\PythonSoftwareFoundation.Python.3.11_qbz5n2kfra8p0\\python.exe -m pip install --upgrade pip\n",
            "\n",
            "[notice] A new release of pip is available: 24.0 -> 25.2\n",
            "[notice] To update, run: C:\\Users\\waqua\\AppData\\Local\\Microsoft\\WindowsApps\\PythonSoftwareFoundation.Python.3.11_qbz5n2kfra8p0\\python.exe -m pip install --upgrade pip\n"
          ]
        },
        {
          "name": "stdout",
          "output_type": "stream",
          "text": [
            "Requirement already satisfied: geonamescache in c:\\users\\waqua\\appdata\\local\\packages\\pythonsoftwarefoundation.python.3.11_qbz5n2kfra8p0\\localcache\\local-packages\\python311\\site-packages (2.0.0)\n",
            "Note: you may need to restart the kernel to use updated packages.\n"
          ]
        }
      ],
      "source": [
        "%pip install spacy\n",
        "%pip install dateparser\n",
        "%pip install geopy\n",
        "%pip install geonamescache\n",
        "\n",
        "import spacy\n",
        "import dateparser\n",
        "from geopy.geocoders import Nominatim\n",
        "from datetime import datetime, timedelta\n",
        "from geonamescache import GeonamesCache\n",
        "import spacy.cli\n",
        "\n",
        "# Load spaCy model\n",
        "try:\n",
        "    nlp = spacy.load(\"en_core_web_sm\")\n",
        "except OSError:\n",
        "    print(\"Downloading spaCy model 'en_core_web_sm'...\")\n",
        "    spacy.cli.download(\"en_core_web_sm\")\n",
        "    nlp = spacy.load(\"en_core_web_sm\")\n",
        "\n",
        "# 🔹 Global city database for all world cities\n",
        "import geonamescache\n",
        "gc = geonamescache.GeonamesCache()\n",
        "all_cities = {city['name'].lower(): city['name'] for city in gc.get_cities().values()}\n"
      ]
    },
    {
      "cell_type": "markdown",
      "metadata": {},
      "source": [
        "The following setup is to use geolocator and matplotlib to create visualizations as outputs for weather related questions. "
      ]
    },
    {
      "cell_type": "code",
      "execution_count": 4,
      "metadata": {},
      "outputs": [
        {
          "name": "stderr",
          "output_type": "stream",
          "text": [
            "\n",
            "[notice] A new release of pip is available: 24.0 -> 25.2\n",
            "[notice] To update, run: C:\\Users\\waqua\\AppData\\Local\\Microsoft\\WindowsApps\\PythonSoftwareFoundation.Python.3.11_qbz5n2kfra8p0\\python.exe -m pip install --upgrade pip\n"
          ]
        },
        {
          "name": "stdout",
          "output_type": "stream",
          "text": [
            "Requirement already satisfied: matplotlib in c:\\users\\waqua\\appdata\\local\\packages\\pythonsoftwarefoundation.python.3.11_qbz5n2kfra8p0\\localcache\\local-packages\\python311\\site-packages (3.10.6)\n",
            "Requirement already satisfied: contourpy>=1.0.1 in c:\\users\\waqua\\appdata\\local\\packages\\pythonsoftwarefoundation.python.3.11_qbz5n2kfra8p0\\localcache\\local-packages\\python311\\site-packages (from matplotlib) (1.3.3)\n",
            "Requirement already satisfied: cycler>=0.10 in c:\\users\\waqua\\appdata\\local\\packages\\pythonsoftwarefoundation.python.3.11_qbz5n2kfra8p0\\localcache\\local-packages\\python311\\site-packages (from matplotlib) (0.12.1)\n",
            "Requirement already satisfied: fonttools>=4.22.0 in c:\\users\\waqua\\appdata\\local\\packages\\pythonsoftwarefoundation.python.3.11_qbz5n2kfra8p0\\localcache\\local-packages\\python311\\site-packages (from matplotlib) (4.60.0)\n",
            "Requirement already satisfied: kiwisolver>=1.3.1 in c:\\users\\waqua\\appdata\\local\\packages\\pythonsoftwarefoundation.python.3.11_qbz5n2kfra8p0\\localcache\\local-packages\\python311\\site-packages (from matplotlib) (1.4.9)\n",
            "Requirement already satisfied: numpy>=1.23 in c:\\users\\waqua\\appdata\\local\\packages\\pythonsoftwarefoundation.python.3.11_qbz5n2kfra8p0\\localcache\\local-packages\\python311\\site-packages (from matplotlib) (2.3.2)\n",
            "Requirement already satisfied: packaging>=20.0 in c:\\users\\waqua\\appdata\\local\\packages\\pythonsoftwarefoundation.python.3.11_qbz5n2kfra8p0\\localcache\\local-packages\\python311\\site-packages (from matplotlib) (25.0)\n",
            "Requirement already satisfied: pillow>=8 in c:\\users\\waqua\\appdata\\local\\packages\\pythonsoftwarefoundation.python.3.11_qbz5n2kfra8p0\\localcache\\local-packages\\python311\\site-packages (from matplotlib) (11.3.0)\n",
            "Requirement already satisfied: pyparsing>=2.3.1 in c:\\users\\waqua\\appdata\\local\\packages\\pythonsoftwarefoundation.python.3.11_qbz5n2kfra8p0\\localcache\\local-packages\\python311\\site-packages (from matplotlib) (3.2.4)\n",
            "Requirement already satisfied: python-dateutil>=2.7 in c:\\users\\waqua\\appdata\\local\\packages\\pythonsoftwarefoundation.python.3.11_qbz5n2kfra8p0\\localcache\\local-packages\\python311\\site-packages (from matplotlib) (2.9.0.post0)\n",
            "Requirement already satisfied: six>=1.5 in c:\\users\\waqua\\appdata\\local\\packages\\pythonsoftwarefoundation.python.3.11_qbz5n2kfra8p0\\localcache\\local-packages\\python311\\site-packages (from python-dateutil>=2.7->matplotlib) (1.17.0)\n",
            "Note: you may need to restart the kernel to use updated packages.\n"
          ]
        }
      ],
      "source": [
        "geolocator = Nominatim(user_agent=\"weather_app\")\n",
        "%pip install matplotlib\n",
        "import matplotlib.pyplot as plt"
      ]
    },
    {
      "cell_type": "markdown",
      "metadata": {
        "id": "9xtLiZZYH6Iq"
      },
      "source": [
        "# Weather Data Functions\n",
        "The purpose of this function is to generate a response containing current weather conditions at a specific city, with a short forecast. The coding was prepared in a way that the get_weather(location, forecast_days) function calls the wttr.in service, parses the JSON response and gives the desired return.   \n"
      ]
    },
    {
      "cell_type": "code",
      "execution_count": 5,
      "metadata": {
        "id": "0cjo4yhDQLvF"
      },
      "outputs": [],
      "source": [
        "def _safe_int_conversion(value):\n",
        "    \"\"\"\n",
        "    Safely converts a value to an integer, returning None if conversion fails.\n",
        "    \"\"\"\n",
        "    try:\n",
        "        return int(float(value)) # Convert to float first to handle decimal strings\n",
        "    except (ValueError, TypeError):\n",
        "        return None\n",
        "\n",
        "def _format_current_weather_table(current_weather: dict) -> str:\n",
        "    \"\"\"\n",
        "    Formats current weather data into a human-readable table.\n",
        "    \"\"\"\n",
        "    headers = [\"Metric\", \"Value\"]\n",
        "    table_data = [\n",
        "        [\"Temperature\", f\"{current_weather.get('temperature_celsius')}°C\"],\n",
        "        [\"Feels Like\", f\"{current_weather.get('feels_like_celsius')}°C\"],\n",
        "        [\"Description\", current_weather.get('description')],\n",
        "        [\"Humidity\", f\"{current_weather.get('humidity_percent')}%\"] if current_weather.get('humidity_percent') is not None else [\"Humidity\", \"N/A\"],\n",
        "        [\"Wind Speed\", f\"{current_weather.get('wind_speed_kmph')} km/h\"] if current_weather.get('wind_speed_kmph') is not None else [\"Wind Speed\", \"N/A\"],\n",
        "    ]\n",
        "    return tabulate(table_data, headers=headers, tablefmt=\"grid\")\n",
        "\n",
        "def _format_forecast_table(forecast_data: list) -> str:\n",
        "    \"\"\"\n",
        "    Formats forecast data into a human-readable table.\n",
        "    \"\"\"\n",
        "    headers = [\"Date\", \"Max Temp (°C)\", \"Min Temp (°C)\", \"Humidity (%)\", \"Wind Speed (km/h)\", \"Description\"]\n",
        "    table_data = []\n",
        "    for day in forecast_data:\n",
        "        table_data.append([\n",
        "            day.get('date'),\n",
        "            day.get('maxtemp_celsius'),\n",
        "            day.get('mintemp_celsius'),\n",
        "            f\"{day.get('humidity_percent')}%\" if day.get('humidity_percent') is not None else \"N/A\",\n",
        "            f\"{day.get('wind_speed_kmph')} km/h\" if day.get('wind_speed_kmph') is not None else \"N/A\",\n",
        "            day.get('description')\n",
        "        ])\n",
        "    return tabulate(table_data, headers=headers, tablefmt=\"grid\")\n",
        "\n",
        "def get_weather(location: str, forecast_days: int) -> dict:\n",
        "    \"\"\"\n",
        "    Fetches current weather conditions and forecast data for a specified location\n",
        "    using the wttr.in API.\n",
        "\n",
        "    Args:\n",
        "        location (str): The name of the city or location (e.g., \"London\", \"New York\").\n",
        "        forecast_days (int): The number of forecast days to retrieve (1-5).\n",
        "\n",
        "    Returns:\n",
        "        dict: A dictionary containing current weather and forecast data formatted as tables,\n",
        "              or an error message if the request fails or the location is invalid.\n",
        "    \"\"\"\n",
        "    # 1. Input Validation\n",
        "    if not 1 <= forecast_days <= 5:\n",
        "        return {\"error\": \"Forecast days must be between 1 and 5.\"}\n",
        "\n",
        "    # 2. URL Encoding for Location\n",
        "    # Encode the location to handle spaces and special characters in the URL.\n",
        "    encoded_location = quote(location)\n",
        "\n",
        "    # 3. Constructing the API URL\n",
        "    # The format=j1 parameter requests JSON output.\n",
        "    # The num_of_days parameter limits the number of forecast days.\n",
        "    api_url = f\"https://wttr.in/{encoded_location}?format=j1&num_of_days={forecast_days}\"\n",
        "\n",
        "    try:\n",
        "        # 4. Making the API Request\n",
        "        response = requests.get(api_url)\n",
        "        response.raise_for_status()  # Raise an exception for HTTP errors (4xx or 5xx).\n",
        "\n",
        "        # 5. Parsing the JSON Response\n",
        "        json_data = response.json()\n",
        "\n",
        "        # 6. Error Handling for Invalid Location from API\n",
        "        # wttr.in returns an \"error\" key if the location is not found.\n",
        "        if \"error\" in json_data:\n",
        "            return {\"error\": f\"Location not found or invalid: {location}\"}\n",
        "\n",
        "        # 7. Extracting Current Weather Conditions\n",
        "        current_condition_data = json_data.get(\"current_condition\", [{}])[0]\n",
        "        current_weather = {\n",
        "            \"temperature_celsius\": _safe_int_conversion(current_condition_data.get(\"temp_C\")),\n",
        "            \"description\": current_condition_data.get(\"weatherDesc\", [{}])[0].get(\"value\") if current_condition_data.get(\"weatherDesc\") else \"N/A\",\n",
        "            \"feels_like_celsius\": _safe_int_conversion(current_condition_data.get(\"FeelsLikeC\")),\n",
        "            \"humidity_percent\": _safe_int_conversion(current_condition_data.get(\"humidity\")),\n",
        "            \"wind_speed_kmph\": _safe_int_conversion(current_condition_data.get(\"windspeedKmph\")),\n",
        "        }\n",
        "\n",
        "        # 8. Extracting Forecast Data\n",
        "        forecast_data_list = []\n",
        "        for day_data in json_data.get(\"weather\", [])[:forecast_days]:\n",
        "            daily_forecast = {\n",
        "                \"date\": day_data.get(\"date\"),\n",
        "                \"maxtemp_celsius\": _safe_int_conversion(day_data.get(\"maxtempC\")),\n",
        "                \"mintemp_celsius\": _safe_int_conversion(day_data.get(\"mintempC\")),\n",
        "                \"humidity_percent\": _safe_int_conversion(day_data.get(\"hourly\", [{}])[0].get(\"humidity\")) if day_data.get(\"hourly\") else None,\n",
        "                \"wind_speed_kmph\": _safe_int_conversion(day_data.get(\"hourly\", [{}])[0].get(\"windspeedKmph\")) if day_data.get(\"hourly\") else None,\n",
        "                \"description\": day_data.get(\"hourly\", [{}])[0].get(\"weatherDesc\", [{}])[0].get(\"value\") if day_data.get(\"hourly\") else \"N/A\"\n",
        "            }\n",
        "            forecast_data_list.append(daily_forecast)\n",
        "\n",
        "        # 9. Formatting data as tables\n",
        "        current_weather_table = _format_current_weather_table(current_weather)\n",
        "        forecast_table = _format_forecast_table(forecast_data_list)\n",
        "\n",
        "        # 10. Returning the Processed Data\n",
        "        return {\n",
        "            \"current_weather_table\": current_weather_table,\n",
        "            \"forecast_table\": forecast_table, \n",
        "            \"forecast_data_list\": forecast_data_list  # Return raw forecast data for further processing\n",
        "        }\n",
        "\n",
        "    except requests.exceptions.RequestException as e:\n",
        "        # Handle network-related errors (e.g., connection refused, DNS error, HTTP errors).\n",
        "        return {\"error\": f\"Network error or API request failed: {e}\"}\n",
        "    except ValueError:\n",
        "        # Handle JSON decoding errors if the response is not valid JSON.\n",
        "        return {\"error\": \"Failed to decode JSON response from API.\"}\n",
        "    except Exception as e:\n",
        "        # Catch any other unexpected errors for robustness.\n",
        "        return {\"error\": f\"An unexpected error occurred: {e}\"}"
      ]
    },
    {
      "cell_type": "markdown",
      "metadata": {
        "id": "z-sL05z0cxrO"
      },
      "source": [
        "The output generated is a formatted current weaher condition and forecast for selected number of days for the specific city."
      ]
    },
    {
      "cell_type": "code",
      "execution_count": 6,
      "metadata": {
        "colab": {
          "base_uri": "https://localhost:8080/"
        },
        "id": "n6Ne8HMacxMj",
        "outputId": "339d555f-006a-4a5b-e3e9-806ac5ee742b"
      },
      "outputs": [
        {
          "name": "stdout",
          "output_type": "stream",
          "text": [
            "+-------------+---------+\n",
            "| Metric      | Value   |\n",
            "+=============+=========+\n",
            "| Temperature | 19°C    |\n",
            "+-------------+---------+\n",
            "| Feels Like  | 19°C    |\n",
            "+-------------+---------+\n",
            "| Description | Clear   |\n",
            "+-------------+---------+\n",
            "| Humidity    | 64%     |\n",
            "+-------------+---------+\n",
            "| Wind Speed  | 13 km/h |\n",
            "+-------------+---------+\n",
            "+------------+-----------------+-----------------+----------------+---------------------+---------------+\n",
            "| Date       |   Max Temp (°C) |   Min Temp (°C) | Humidity (%)   | Wind Speed (km/h)   | Description   |\n",
            "+============+=================+=================+================+=====================+===============+\n",
            "| 2025-09-21 |              24 |              13 | 85%            | 9 km/h              | Clear         |\n",
            "+------------+-----------------+-----------------+----------------+---------------------+---------------+\n",
            "| 2025-09-22 |              24 |              14 | 67%            | 13 km/h             | Clear         |\n",
            "+------------+-----------------+-----------------+----------------+---------------------+---------------+\n",
            "| 2025-09-23 |              25 |              15 | 55%            | 16 km/h             | Clear         |\n",
            "+------------+-----------------+-----------------+----------------+---------------------+---------------+\n"
          ]
        }
      ],
      "source": [
        "weather_data = get_weather(\"Perth\", 3)\n",
        "if \"error\" in weather_data:\n",
        "\tprint(f\"Error: {weather_data['error']}\")\n",
        "else:\n",
        "\tprint(weather_data['current_weather_table'])\n",
        "\tprint(weather_data['forecast_table'])"
      ]
    },
    {
      "cell_type": "markdown",
      "metadata": {
        "id": "xyqSutyrIRXY"
      },
      "source": [
        "# Natural Language Processing"
      ]
    },
    {
      "cell_type": "markdown",
      "metadata": {},
      "source": [
        "The purpose of this module is to parse natural language questions about weather and extract location, time, and weather attribute asked about. It uses spaCy for entity recognition, dateparser to interpret time, and geopy for locations. \n",
        "It includes user friendly guidance, confidence scoring, fallback suggestions, context awareness etc and returns location, time, forecast and level of confidence. The code also provides error messages that are conversational instead of hard errors.  \n",
        "\n",
        "The parser now comes with some advanced features made for easier integration with a user interface:\n",
        "\n",
        "- User-Friendly Guidance: Gives structured messages and some suggestions when parsing fails or the input is kinda ambiguous.\n",
        "- Confidence Scoring: Gives scores for the extracted parts like location, time and attributes so the UI can show uncertainty and ask user confirmation.\n",
        "- Fallback Suggestions: Suggests alternative city matches when the location provided isn’t clear enough.\n",
        "- Context Awareness: Keeps track of the conversation, letting follow-up questions reuse previously extracted values for smoother interactions."
      ]
    },
    {
      "cell_type": "code",
      "execution_count": 7,
      "metadata": {},
      "outputs": [],
      "source": [
        "# Global context storage for conversational awareness\n",
        "CONTEXT = {\n",
        "    \"location\": None,\n",
        "    \"time\": None,\n",
        "    \"attributes\": [],\n",
        "    \"negated_attributes\": []\n",
        "}\n",
        "def _parse_time_expression(text: str):\n",
        "    \"\"\"\n",
        "    Parses a time expression from text and returns a string representation.\n",
        "    Uses dateparser to interpret natural language dates.\n",
        "    \"\"\"\n",
        "    dt = dateparser.parse(text)\n",
        "    if dt:\n",
        "        today = datetime.now().date()\n",
        "        if dt.date() == today:\n",
        "            return \"today\"\n",
        "        elif dt.date() == today + timedelta(days=1):\n",
        "            return \"tomorrow\"\n",
        "        else:\n",
        "            return dt.strftime(\"%Y-%m-%d\")\n",
        "    return None\n",
        "def parse_weather_question_nlp(question: str) -> dict:\n",
        "    \"\"\"\n",
        "    Enhanced NLP-based weather question parser with:\n",
        "    - User-friendly error messages and suggestions\n",
        "    - Confidence scoring\n",
        "    - Fallback interaction with location suggestions\n",
        "    - Conversational context awareness\n",
        "\n",
        "    Returns:\n",
        "        dict with keys:\n",
        "        - location, time, attributes, negated_attributes\n",
        "        - confidence (scores for each element)\n",
        "        - suggestions (e.g., alternate city matches)\n",
        "        - messages (user-friendly guidance/errors)\n",
        "        - context (carried over values from previous queries)\n",
        "    \"\"\"\n",
        "    ATTRIBUTE_KEYWORDS = {\n",
        "        \"rain\": \"rain\", \"precipitation\": \"rain\",\n",
        "        \"temperature\": \"temperature\", \"temp\": \"temperature\", \"hot\": \"temperature\", \"cold\": \"temperature\",\n",
        "        \"sun\": \"sun\", \"sunny\": \"sun\",\n",
        "        \"wind\": \"wind\", \"windy\": \"wind\",\n",
        "        \"humidity\": \"humidity\", \"humid\": \"humidity\",\n",
        "        \"clouds\": \"clouds\", \"cloudy\": \"clouds\",\n",
        "        \"conditions\": \"description\", \"weather\": \"description\", \"forecast\": \"description\"\n",
        "    }\n",
        "\n",
        "    doc = nlp(question)\n",
        "    lower_question = question.lower()\n",
        "\n",
        "    extracted_info = {\n",
        "        \"location\": None,\n",
        "        \"time\": None,\n",
        "        \"attributes\": [],\n",
        "        \"negated_attributes\": [],\n",
        "        \"confidence\": {},\n",
        "        \"suggestions\": {},\n",
        "        \"messages\": [],\n",
        "        \"context\": CONTEXT.copy()\n",
        "    }\n",
        "\n",
        "    # ---- 1. Extract Location ----\n",
        "    location_found = False\n",
        "    location_confidence = 0.0\n",
        "    suggestions = []\n",
        "\n",
        "    for ent in doc.ents:\n",
        "        if ent.label_ == \"GPE\":\n",
        "            try:\n",
        "                location = geolocator.geocode(ent.text, exactly_one=False, limit=3)\n",
        "                if location:\n",
        "                    extracted_info[\"location\"] = ent.text\n",
        "                    location_found = True\n",
        "                    location_confidence = ent.kb_id_ if ent.kb_id_ else 0.9  # heuristic confidence\n",
        "                    if len(location) > 1:\n",
        "                        suggestions = [loc.address for loc in location]\n",
        "                    break\n",
        "            except Exception:\n",
        "                continue\n",
        "\n",
        "    if not location_found:\n",
        "    # Check all cities in the dictionary for substring match (supports multi-word and special characters)\n",
        "        for city_key, city_value in all_cities.items():\n",
        "            if city_key.lower() in lower_question:\n",
        "                extracted_info[\"location\"] = city_value\n",
        "                location_found = True\n",
        "                location_confidence = 0.75\n",
        "                break\n",
        "\n",
        "    # If still not found, try geopy on the whole question\n",
        "    if not location_found:\n",
        "        try:\n",
        "            location = geolocator.geocode(question, exactly_one=True)\n",
        "            if location:\n",
        "                extracted_info[\"location\"] = location.address\n",
        "                location_found = True\n",
        "                location_confidence = 0.7\n",
        "        except Exception:\n",
        "            pass\n",
        "\n",
        "\n",
        "    # If still not found, fallback to context\n",
        "    if not location_found and CONTEXT[\"location\"]:\n",
        "        extracted_info[\"location\"] = CONTEXT[\"location\"]\n",
        "        extracted_info[\"messages\"].append(\"No location specified, using last known location from context.\")\n",
        "        location_confidence = 0.6\n",
        "\n",
        "    if not location_found and not CONTEXT[\"location\"]:\n",
        "        extracted_info[\"messages\"].append(\n",
        "            \"Could not confidently extract a location. Please specify a city name (e.g., 'London' or 'New York').\"\n",
        "        )\n",
        "        if suggestions:\n",
        "            extracted_info[\"suggestions\"][\"location\"] = suggestions\n",
        "\n",
        "    extracted_info[\"confidence\"][\"location\"] = location_confidence\n",
        "\n",
        "    # ---- 2. Extract Time ----\n",
        "    time_expression_text = None\n",
        "    time_confidence = 0.0\n",
        "\n",
        "    time_phrases = sorted([\n",
        "        \"the day after tomorrow\", \"next 3 days\", \"next 5 days\", \"next weekend\",\n",
        "        \"this week\", \"next week\", \"in a week\", \"in two days\", \"next month\",\n",
        "        \"tomorrow\", \"today\"\n",
        "    ], key=len, reverse=True)\n",
        "\n",
        "    for phrase in time_phrases:\n",
        "        if phrase in lower_question:\n",
        "            time_expression_text = phrase\n",
        "            break\n",
        "\n",
        "    if time_expression_text:\n",
        "        extracted_info[\"time\"] = _parse_time_expression(time_expression_text)\n",
        "        time_confidence = 0.9\n",
        "    else:\n",
        "        parsed_full_q_time = _parse_time_expression(question)\n",
        "        if parsed_full_q_time:\n",
        "            extracted_info[\"time\"] = parsed_full_q_time\n",
        "            time_confidence = 0.7\n",
        "        elif CONTEXT[\"time\"]:\n",
        "            extracted_info[\"time\"] = CONTEXT[\"time\"]\n",
        "            extracted_info[\"messages\"].append(\"No explicit time found, using last known time from context.\")\n",
        "            time_confidence = 0.6\n",
        "        else:\n",
        "            extracted_info[\"time\"] = \"today\"\n",
        "            extracted_info[\"messages\"].append(\"No time specified, defaulting to 'today'.\")\n",
        "            time_confidence = 0.5\n",
        "\n",
        "    extracted_info[\"confidence\"][\"time\"] = time_confidence\n",
        "\n",
        "    # ---- 3. Extract Attributes ----\n",
        "    found_attributes = set()\n",
        "    found_negated_attributes = set()\n",
        "    attr_confidence = 0.0\n",
        "\n",
        "    for token in doc:\n",
        "        if token.text.lower() in ATTRIBUTE_KEYWORDS:\n",
        "            attr = ATTRIBUTE_KEYWORDS[token.text.lower()]\n",
        "            is_negated = False\n",
        "            if token.i > 0 and doc[token.i - 1].text.lower() in [\"not\", \"no\", \"n\\'t\", \"n’t\"]:\n",
        "                is_negated = True\n",
        "            if token.i > 1 and doc[token.i - 2].text.lower() == \"without\":\n",
        "                is_negated = True\n",
        "            if is_negated:\n",
        "                found_negated_attributes.add(attr)\n",
        "            else:\n",
        "                found_attributes.add(attr)\n",
        "\n",
        "    if found_attributes or found_negated_attributes:\n",
        "        attr_confidence = 0.9\n",
        "    elif CONTEXT[\"attributes\"]:\n",
        "        found_attributes = set(CONTEXT[\"attributes\"])\n",
        "        attr_confidence = 0.6\n",
        "        extracted_info[\"messages\"].append(\"No attributes specified, using last known attributes from context.\")\n",
        "    else:\n",
        "        found_attributes.add(\"description\")\n",
        "        attr_confidence = 0.5\n",
        "        extracted_info[\"messages\"].append(\"No specific attributes found, defaulting to general weather description.\")\n",
        "\n",
        "    extracted_info[\"attributes\"] = list(found_attributes)\n",
        "    extracted_info[\"negated_attributes\"] = list(found_negated_attributes)\n",
        "    extracted_info[\"confidence\"][\"attributes\"] = attr_confidence\n",
        "\n",
        "    # ---- 4. Update Global Context ----\n",
        "    CONTEXT.update({\n",
        "        \"location\": extracted_info[\"location\"],\n",
        "        \"time\": extracted_info[\"time\"],\n",
        "        \"attributes\": extracted_info[\"attributes\"],\n",
        "        \"negated_attributes\": extracted_info[\"negated_attributes\"]\n",
        "    })\n",
        "    extracted_info[\"context\"] = CONTEXT.copy()\n",
        "\n",
        "    return extracted_info\n"
      ]
    },
    {
      "cell_type": "markdown",
      "metadata": {},
      "source": [
        "The following script lets the user ask a weather related question specifying the city and the time in plain conversational English and returns the current weather and forecast. It parses the question for location and time data and retrieves results form get_weather function. Functionalities include: \n",
        "\n",
        "- Prompting users for weather related question.\n",
        "- Location and time extraction using Natural Language Processing. \n",
        "- Fetches current weather and forecast tables. \n",
        "- Handles possible errors. "
      ]
    },
    {
      "cell_type": "code",
      "execution_count": 8,
      "metadata": {},
      "outputs": [
        {
          "name": "stdout",
          "output_type": "stream",
          "text": [
            "\n",
            "Here's the weather for Perth (today):\n",
            "\n",
            "+-------------+---------+\n",
            "| Metric      | Value   |\n",
            "+=============+=========+\n",
            "| Temperature | 19°C    |\n",
            "+-------------+---------+\n",
            "| Feels Like  | 19°C    |\n",
            "+-------------+---------+\n",
            "| Description | Clear   |\n",
            "+-------------+---------+\n",
            "| Humidity    | 64%     |\n",
            "+-------------+---------+\n",
            "| Wind Speed  | 13 km/h |\n",
            "+-------------+---------+\n",
            "\n",
            "Forecast:\n",
            "\n",
            "+------------+-----------------+-----------------+----------------+---------------------+---------------+\n",
            "| Date       |   Max Temp (°C) |   Min Temp (°C) | Humidity (%)   | Wind Speed (km/h)   | Description   |\n",
            "+============+=================+=================+================+=====================+===============+\n",
            "| 2025-09-21 |              24 |              13 | 85%            | 9 km/h              | Clear         |\n",
            "+------------+-----------------+-----------------+----------------+---------------------+---------------+\n"
          ]
        }
      ],
      "source": [
        "# Prompt the user for a weather-related question\n",
        "user_question = input(\"Ask a weather-related question: \")\n",
        "\n",
        "# Ensure the NLP function is defined\n",
        "if 'parse_weather_question_nlp' not in globals():\n",
        "    print(\"Please run the cell that defines 'parse_weather_question_nlp' before running this cell.\")\n",
        "else:\n",
        "    parsed_info = parse_weather_question_nlp(user_question)\n",
        "\n",
        "    if \"error\" in parsed_info:\n",
        "        print(f\"Sorry, I couldn't understand your question. {parsed_info['error']}\")\n",
        "    else:\n",
        "        location = parsed_info[\"location\"]\n",
        "        time = parsed_info[\"time\"]\n",
        "\n",
        "        # Determine forecast_days based on time expression\n",
        "        if time == \"today\" or time == \"tomorrow\":\n",
        "            forecast_days = 1\n",
        "        elif \"next\" in time and \"days\" in time:\n",
        "            forecast_days = int(time.split()[1])\n",
        "        else:\n",
        "            forecast_days = 1  # Default to 1 day if not clear\n",
        "\n",
        "        weather_result = get_weather(location, forecast_days)\n",
        "\n",
        "        if \"error\" in weather_result:\n",
        "            print(f\"Sorry, I couldn't retrieve the weather for {location}. {weather_result['error']}\")\n",
        "        else:\n",
        "            print(f\"\\nHere's the weather for {location} ({time}):\\n\")\n",
        "            print(weather_result[\"current_weather_table\"])\n",
        "            print(\"\\nForecast:\\n\")\n",
        "            print(weather_result[\"forecast_table\"])\n"
      ]
    },
    {
      "cell_type": "markdown",
      "metadata": {},
      "source": [
        "# Visualization Functions"
      ]
    },
    {
      "cell_type": "markdown",
      "metadata": {},
      "source": [
        "The following section of the notebook exrends the weather parsing and API integration by allowing user interaction with a prompt that allows asking a weather related question specifying a city name. The function then collects weather data using the 'get_weather' function and fetching current and forecast weather data. Along with displaying the weather data in a dabulated format, it creates a trend visualization using 'matplotlib'. \n",
        "\n",
        "The workflow is as follows: \n",
        "\n",
        "i. User enters a weather related question. \n",
        "\n",
        "ii. Natural Language Processing parser extracts \n",
        "    information. \n",
        "\n",
        "iii. Weather data is retrieved from the 'wttr.in' API. \n",
        "\n",
        "iv. Current and forecast data are shown in tables. \n",
        "\n",
        "v. Trend visualizations are generated for the specified attribute. "
      ]
    },
    {
      "cell_type": "code",
      "execution_count": 9,
      "metadata": {},
      "outputs": [
        {
          "name": "stdout",
          "output_type": "stream",
          "text": [
            "🌤 Current Weather in Perth:\n",
            "+-------------+---------+\n",
            "| Metric      | Value   |\n",
            "+=============+=========+\n",
            "| Temperature | 19°C    |\n",
            "+-------------+---------+\n",
            "| Feels Like  | 19°C    |\n",
            "+-------------+---------+\n",
            "| Description | Clear   |\n",
            "+-------------+---------+\n",
            "| Humidity    | 64%     |\n",
            "+-------------+---------+\n",
            "| Wind Speed  | 13 km/h |\n",
            "+-------------+---------+\n",
            "\n",
            "📅 Forecast in Perth:\n",
            "+------------+-----------------+-----------------+----------------+---------------------+---------------+\n",
            "| Date       |   Max Temp (°C) |   Min Temp (°C) | Humidity (%)   | Wind Speed (km/h)   | Description   |\n",
            "+============+=================+=================+================+=====================+===============+\n",
            "| 2025-09-21 |              24 |              13 | 85%            | 9 km/h              | Clear         |\n",
            "+------------+-----------------+-----------------+----------------+---------------------+---------------+\n",
            "| 2025-09-22 |              24 |              14 | 67%            | 13 km/h             | Clear         |\n",
            "+------------+-----------------+-----------------+----------------+---------------------+---------------+\n",
            "| 2025-09-23 |              25 |              15 | 55%            | 16 km/h             | Clear         |\n",
            "+------------+-----------------+-----------------+----------------+---------------------+---------------+\n"
          ]
        },
        {
          "data": {
            "image/png": "[encoded data removed]",
            "text/plain": [
              "<Figure size 500x300 with 1 Axes>"
            ]
          },
          "metadata": {},
          "output_type": "display_data"
        }
      ],
      "source": [
        "def create_weather_visualisation(weather_data: dict, city: str, attribute: str):\n",
        "    \"\"\"\n",
        "    Generates a weather trend chart dynamically for the chosen attribute.\n",
        "    Supports attributes: temperature, humidity, wind, description (skipped for plotting).\n",
        "    \"\"\"\n",
        "    if \"forecast_table\" not in weather_data:\n",
        "        print(\"No forecast data available to plot.\")\n",
        "        return\n",
        "\n",
        "    # Extract forecast list again (not just the formatted table)\n",
        "    forecast_data_list = weather_data.get(\"forecast_data_list\", [])\n",
        "    if not forecast_data_list:\n",
        "        print(\"No valid forecast data available.\")\n",
        "        return\n",
        "\n",
        "    # Prepare X-axis (days)\n",
        "    days = [\"Today\"] + [f\"Day {i}\" for i in range(2, len(forecast_data_list)+1)]\n",
        "\n",
        "    # Handle attribute-specific plotting\n",
        "    if attribute == \"temperature\":\n",
        "        max_vals = [day[\"maxtemp_celsius\"] for day in forecast_data_list]\n",
        "        min_vals = [day[\"mintemp_celsius\"] for day in forecast_data_list]\n",
        "\n",
        "        plt.figure(figsize=(5,3))\n",
        "        plt.plot(days, max_vals, marker='o', label=\"Max Temp (°C)\")\n",
        "        plt.plot(days, min_vals, marker='o', label=\"Min Temp (°C)\")\n",
        "        plt.title(f\"Temperature Trend for {city}\")\n",
        "        plt.xlabel(\"Days\")\n",
        "        plt.ylabel(\"Temperature (°C)\")\n",
        "        plt.legend()\n",
        "        plt.grid(True)\n",
        "        plt.show()\n",
        "\n",
        "    elif attribute == \"humidity\":\n",
        "        # Extract humidity from forecast (API has it per hour, we simplify by first hourly)\n",
        "        humidity_vals = [day.get(\"humidity_percent\", 50) for day in forecast_data_list]\n",
        "\n",
        "        plt.figure(figsize=(5,3))\n",
        "        plt.plot(days, humidity_vals, marker='o', color=\"blue\", label=\"Humidity (%)\")\n",
        "        plt.title(f\"Humidity Trend for {city}\")\n",
        "        plt.xlabel(\"Days\")\n",
        "        plt.ylabel(\"Humidity (%)\")\n",
        "        plt.legend()\n",
        "        plt.grid(True)\n",
        "        plt.show()\n",
        "\n",
        "    elif attribute == \"wind\":\n",
        "        wind_vals = [day.get(\"wind_speed_kmph\", 10) for day in forecast_data_list]\n",
        "\n",
        "        plt.figure(figsize=(5,3))\n",
        "        plt.plot(days, wind_vals, marker='o', color=\"green\", label=\"Wind Speed (km/h)\")\n",
        "        plt.title(f\"Wind Speed Trend for {city}\")\n",
        "        plt.xlabel(\"Days\")\n",
        "        plt.ylabel(\"Wind Speed (km/h)\")\n",
        "        plt.legend()\n",
        "        plt.grid(True)\n",
        "        plt.show()\n",
        "\n",
        "    else:\n",
        "        print(f\"⚠️ No visualisation available for attribute '{attribute}'. Showing only tables.\")\n",
        "\n",
        "\n",
        "# --- User Interaction ---\n",
        "question = input(\"Ask about the weather (e.g., 'What is the humidity in London for the next 3 days?'):\\n\")\n",
        "\n",
        "# Step 1: Parse user question\n",
        "parsed_info = parse_weather_question_nlp(question)\n",
        "city = parsed_info.get(\"location\")\n",
        "attribute = parsed_info.get(\"attributes\")[0] if parsed_info.get(\"attributes\") else \"temperature\"\n",
        "\n",
        "if not city:\n",
        "    print(\"❌ Could not determine city from your question. Please try again.\")\n",
        "else:\n",
        "    # Step 2: Determine forecast days (default 3 if time not clear)\n",
        "    forecast_days = 3\n",
        "    q_lower = question.lower()\n",
        "    if \"5\" in q_lower:\n",
        "        forecast_days = 5\n",
        "    elif \"4\" in q_lower:\n",
        "        forecast_days = 4\n",
        "    elif \"3\" in q_lower:\n",
        "        forecast_days = 3\n",
        "    elif \"2\" in q_lower:\n",
        "        forecast_days = 2\n",
        "    elif \"tomorrow\" in q_lower:\n",
        "        forecast_days = 2\n",
        "\n",
        "    # Step 3: Fetch weather\n",
        "    weather_result = get_weather(city, forecast_days)\n",
        "\n",
        "    if \"error\" in weather_result:\n",
        "        print(weather_result[\"error\"])\n",
        "    else:\n",
        "        # Show tables\n",
        "        print(\"🌤 Current Weather in\", city + \":\")\n",
        "        print(weather_result[\"current_weather_table\"])\n",
        "        print(\"\\n📅 Forecast in\", city + \":\")\n",
        "        print(weather_result[\"forecast_table\"])\n",
        "\n",
        "        # Step 4: Plot attribute trend\n",
        "        create_weather_visualisation(weather_result, city, attribute)\n"
      ]
    },
    {
      "cell_type": "markdown",
      "metadata": {
        "id": "nhl2SOBFIYvm"
      },
      "source": [
        "# User Interface"
      ]
    },
    {
      "cell_type": "markdown",
      "metadata": {
        "id": "92u995S5IdNu"
      },
      "source": [
        "# Main Application Logic"
      ]
    },
    {
      "cell_type": "markdown",
      "metadata": {
        "id": "0ARAQsb5IhMK"
      },
      "source": [
        "# Testing and Examples"
      ]
    }
  ],
  "metadata": {
    "colab": {
      "provenance": []
    },
    "kernelspec": {
      "display_name": "Python 3",
      "name": "python3"
    },
    "language_info": {
      "codemirror_mode": {
        "name": "ipython",
        "version": 3
      },
      "file_extension": ".py",
      "mimetype": "text/x-python",
      "name": "python",
      "nbconvert_exporter": "python",
      "pygments_lexer": "ipython3",
      "version": "3.11.9"
    }
  },
  "nbformat": 4,
  "nbformat_minor": 0
}
