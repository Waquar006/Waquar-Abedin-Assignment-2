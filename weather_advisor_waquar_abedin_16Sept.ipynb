{
  "nbformat": 4,
  "nbformat_minor": 0,
  "metadata": {
    "colab": {
      "provenance": []
    },
    "kernelspec": {
      "name": "python3",
      "display_name": "Python 3"
    },
    "language_info": {
      "name": "python"
    }
  },
  "cells": [
    {
      "cell_type": "markdown",
      "source": [
        "# Setup & Configuration  \n"
      ],
      "metadata": {
        "id": "ahHp8XD8qykX"
      }
    },
    {
      "cell_type": "markdown",
      "source": [
        "For setting up, the \"requests\" library is required. Additionally, in order to generate the returns in readable format, installing tabulate package is required to use the tabulat function. Moreover, to encode the location names, the function \"quote\" is required."
      ],
      "metadata": {
        "id": "JMD1ardtR5lk"
      }
    },
    {
      "cell_type": "code",
      "source": [
        "%pip install tabulate\n",
        "import requests\n",
        "from tabulate import tabulate\n",
        "from urllib.parse import quote"
      ],
      "metadata": {
        "colab": {
          "base_uri": "https://localhost:8080/"
        },
        "id": "SanyqnQER45G",
        "outputId": "7c8c06d0-1469-4a23-aaa3-80286645cdd0"
      },
      "execution_count": 6,
      "outputs": [
        {
          "output_type": "stream",
          "name": "stdout",
          "text": [
            "Requirement already satisfied: tabulate in /usr/local/lib/python3.12/dist-packages (0.9.0)\n"
          ]
        }
      ]
    },
    {
      "cell_type": "markdown",
      "source": [
        "# Weather Data Functions\n",
        "The purpose of this function is to generate a response containing current weather conditions at a specific city, with a short forecast. The coding was prepared in a way that the get_weather(location, forecast_days) function calls the wttr.in service, parses the JSON response and gives the desired return.   \n"
      ],
      "metadata": {
        "id": "9xtLiZZYH6Iq"
      }
    },
    {
      "cell_type": "code",
      "source": [
        "def _safe_int_conversion(value):\n",
        "    \"\"\"\n",
        "    Safely converts a value to an integer, returning None if conversion fails.\n",
        "    \"\"\"\n",
        "    try:\n",
        "        return int(float(value)) # Convert to float first to handle decimal strings\n",
        "    except (ValueError, TypeError):\n",
        "        return None\n",
        "\n",
        "def _format_current_weather_table(current_weather: dict) -> str:\n",
        "    \"\"\"\n",
        "    Formats current weather data into a human-readable table.\n",
        "    \"\"\"\n",
        "    headers = [\"Metric\", \"Value\"]\n",
        "    table_data = [\n",
        "        [\"Temperature\", f\"{current_weather.get('temperature_celsius')}°C\"],\n",
        "        [\"Feels Like\", f\"{current_weather.get('feels_like_celsius')}°C\"],\n",
        "        [\"Description\", current_weather.get('description')],\n",
        "        [\"Humidity\", f\"{current_weather.get('humidity_percent')}%\"] if current_weather.get('humidity_percent') is not None else [\"Humidity\", \"N/A\"],\n",
        "        [\"Wind Speed\", f\"{current_weather.get('wind_speed_kmph')} km/h\"] if current_weather.get('wind_speed_kmph') is not None else [\"Wind Speed\", \"N/A\"],\n",
        "    ]\n",
        "    return tabulate(table_data, headers=headers, tablefmt=\"grid\")\n",
        "\n",
        "def _format_forecast_table(forecast_data: list) -> str:\n",
        "    \"\"\"\n",
        "    Formats forecast data into a human-readable table.\n",
        "    \"\"\"\n",
        "    headers = [\"Date\", \"Max Temp (°C)\", \"Min Temp (°C)\", \"Description\"]\n",
        "    table_data = []\n",
        "    for day in forecast_data:\n",
        "        table_data.append([\n",
        "            day.get('date'),\n",
        "            day.get('maxtemp_celsius'),\n",
        "            day.get('mintemp_celsius'),\n",
        "            day.get('description')\n",
        "        ])\n",
        "    return tabulate(table_data, headers=headers, tablefmt=\"grid\")\n",
        "\n",
        "def get_weather(location: str, forecast_days: int) -> dict:\n",
        "    \"\"\"\n",
        "    Fetches current weather conditions and forecast data for a specified location\n",
        "    using the wttr.in API.\n",
        "\n",
        "    Args:\n",
        "        location (str): The name of the city or location (e.g., \"London\", \"New York\").\n",
        "        forecast_days (int): The number of forecast days to retrieve (1-5).\n",
        "\n",
        "    Returns:\n",
        "        dict: A dictionary containing current weather and forecast data formatted as tables,\n",
        "              or an error message if the request fails or the location is invalid.\n",
        "    \"\"\"\n",
        "    # 1. Input Validation\n",
        "    if not 1 <= forecast_days <= 5:\n",
        "        return {\"error\": \"Forecast days must be between 1 and 5.\"}\n",
        "\n",
        "    # 2. URL Encoding for Location\n",
        "    # Encode the location to handle spaces and special characters in the URL.\n",
        "    encoded_location = quote(location)\n",
        "\n",
        "    # 3. Constructing the API URL\n",
        "    # The format=j1 parameter requests JSON output.\n",
        "    # The forecast parameter limits the number of forecast days.\n",
        "    api_url = f\"https://wttr.in/{encoded_location}?format=j1&forecast={forecast_days}\"\n",
        "\n",
        "    try:\n",
        "        # 4. Making the API Request\n",
        "        response = requests.get(api_url)\n",
        "        response.raise_for_status()  # Raise an exception for HTTP errors (4xx or 5xx).\n",
        "\n",
        "        # 5. Parsing the JSON Response\n",
        "        json_data = response.json()\n",
        "\n",
        "        # 6. Error Handling for Invalid Location from API\n",
        "        # wttr.in returns an \"error\" key if the location is not found.\n",
        "        if \"error\" in json_data:\n",
        "            return {\"error\": f\"Location not found or invalid: {location}\"}\n",
        "\n",
        "        # 7. Extracting Current Weather Conditions\n",
        "        current_condition_data = json_data.get(\"current_condition\", [{}])[0]\n",
        "        current_weather = {\n",
        "            \"temperature_celsius\": _safe_int_conversion(current_condition_data.get(\"temp_C\")),\n",
        "            \"description\": current_condition_data.get(\"weatherDesc\", [{}])[0].get(\"value\") if current_condition_data.get(\"weatherDesc\") else \"N/A\",\n",
        "            \"feels_like_celsius\": _safe_int_conversion(current_condition_data.get(\"FeelsLikeC\")),\n",
        "            \"humidity_percent\": _safe_int_conversion(current_condition_data.get(\"humidity\")),\n",
        "            \"wind_speed_kmph\": _safe_int_conversion(current_condition_data.get(\"windspeedKmph\")),\n",
        "        }\n",
        "\n",
        "        # 8. Extracting Forecast Data\n",
        "        forecast_data_list = []\n",
        "        for day_data in json_data.get(\"weather\", [])[:forecast_days]:\n",
        "            daily_forecast = {\n",
        "                \"date\": day_data.get(\"date\"),\n",
        "                \"maxtemp_celsius\": _safe_int_conversion(day_data.get(\"maxtempC\")),\n",
        "                \"mintemp_celsius\": _safe_int_conversion(day_data.get(\"mintempC\")),\n",
        "                \"description\": day_data.get(\"hourly\", [{}])[0].get(\"weatherDesc\", [{}])[0].get(\"value\") if day_data.get(\"hourly\") else \"N/A\"\n",
        "            }\n",
        "            forecast_data_list.append(daily_forecast)\n",
        "\n",
        "        # 9. Formatting data as tables\n",
        "        current_weather_table = _format_current_weather_table(current_weather)\n",
        "        forecast_table = _format_forecast_table(forecast_data_list)\n",
        "\n",
        "        # 10. Returning the Processed Data\n",
        "        return {\n",
        "            \"current_weather_table\": current_weather_table,\n",
        "            \"forecast_table\": forecast_table\n",
        "        }\n",
        "\n",
        "    except requests.exceptions.RequestException as e:\n",
        "        # Handle network-related errors (e.g., connection refused, DNS error, HTTP errors).\n",
        "        return {\"error\": f\"Network error or API request failed: {e}\"}\n",
        "    except ValueError:\n",
        "        # Handle JSON decoding errors if the response is not valid JSON.\n",
        "        return {\"error\": \"Failed to decode JSON response from API.\"}\n",
        "    except Exception as e:\n",
        "        # Catch any other unexpected errors for robustness.\n",
        "        return {\"error\": f\"An unexpected error occurred: {e}\"}"
      ],
      "metadata": {
        "id": "0cjo4yhDQLvF"
      },
      "execution_count": 7,
      "outputs": []
    },
    {
      "cell_type": "markdown",
      "source": [
        "The output generated is a formatted current weaher condition and forecast for selected number of days for the specific city."
      ],
      "metadata": {
        "id": "z-sL05z0cxrO"
      }
    },
    {
      "cell_type": "code",
      "source": [
        "weather_data = get_weather(\"Perth\", 4)\n",
        "print(weather_data['current_weather_table'])\n",
        "print(weather_data['forecast_table'])"
      ],
      "metadata": {
        "colab": {
          "base_uri": "https://localhost:8080/"
        },
        "id": "n6Ne8HMacxMj",
        "outputId": "339d555f-006a-4a5b-e3e9-806ac5ee742b"
      },
      "execution_count": 12,
      "outputs": [
        {
          "output_type": "stream",
          "name": "stdout",
          "text": [
            "+-------------+---------------+\n",
            "| Metric      | Value         |\n",
            "+=============+===============+\n",
            "| Temperature | 17°C          |\n",
            "+-------------+---------------+\n",
            "| Feels Like  | 17°C          |\n",
            "+-------------+---------------+\n",
            "| Description | Partly cloudy |\n",
            "+-------------+---------------+\n",
            "| Humidity    | 48%           |\n",
            "+-------------+---------------+\n",
            "| Wind Speed  | 10 km/h       |\n",
            "+-------------+---------------+\n",
            "+------------+-----------------+-----------------+--------------------+\n",
            "| Date       |   Max Temp (°C) |   Min Temp (°C) | Description        |\n",
            "+============+=================+=================+====================+\n",
            "| 2025-09-16 |              16 |              11 | Patchy rain nearby |\n",
            "+------------+-----------------+-----------------+--------------------+\n",
            "| 2025-09-17 |              18 |              13 | Patchy rain nearby |\n",
            "+------------+-----------------+-----------------+--------------------+\n",
            "| 2025-09-18 |              16 |              14 | Patchy rain nearby |\n",
            "+------------+-----------------+-----------------+--------------------+\n"
          ]
        }
      ]
    },
    {
      "cell_type": "markdown",
      "source": [
        "#Visualization Functions"
      ],
      "metadata": {
        "id": "DEWgYCmpIERY"
      }
    },
    {
      "cell_type": "markdown",
      "source": [
        "#Natural Language Processing"
      ],
      "metadata": {
        "id": "xyqSutyrIRXY"
      }
    },
    {
      "cell_type": "markdown",
      "source": [
        "#User Interface"
      ],
      "metadata": {
        "id": "nhl2SOBFIYvm"
      }
    },
    {
      "cell_type": "markdown",
      "source": [
        "#Main Application Logic"
      ],
      "metadata": {
        "id": "92u995S5IdNu"
      }
    },
    {
      "cell_type": "markdown",
      "source": [
        "#Testing and Examples"
      ],
      "metadata": {
        "id": "0ARAQsb5IhMK"
      }
    }
  ]
}